{
 "cells": [
  {
   "cell_type": "markdown",
   "metadata": {},
   "source": [
    "# ライブラリ読み込み"
   ]
  },
  {
   "cell_type": "code",
   "execution_count": 14,
   "metadata": {},
   "outputs": [],
   "source": [
    "# 仮想環境:sklearn_base\n",
    "import pandas as pd\n",
    "import matplotlib.pyplot as plt\n",
    "from sklearn.datasets import load_linnerud\n",
    "from sklearn.linear_model import LinearRegression\n",
    "from sklearn.model_selection import train_test_split\n"
   ]
  },
  {
   "cell_type": "markdown",
   "metadata": {},
   "source": [
    "# データ読み込み"
   ]
  },
  {
   "cell_type": "code",
   "execution_count": 15,
   "metadata": {},
   "outputs": [],
   "source": [
    "linnerud = load_linnerud()\n",
    "X = pd.DataFrame(linnerud.data, columns=linnerud.feature_names)\n",
    "Y = pd.DataFrame(linnerud.target, columns=[\"Weight\", \"Waist\", \"Pulse\"])\n"
   ]
  },
  {
   "cell_type": "markdown",
   "metadata": {},
   "source": [
    "# 線形回帰"
   ]
  },
  {
   "cell_type": "code",
   "execution_count": 17,
   "metadata": {},
   "outputs": [
    {
     "name": "stdout",
     "output_type": "stream",
     "text": [
      "Coefficient: [-0.05281683 -0.06889868 -0.02076234]\n",
      "Intercept: 185.54296067138583\n",
      "Coefficient: [-0.07358313 -0.02575405  0.01470523]\n",
      "Intercept: 38.34440270282328\n",
      "Coefficient: [-0.09498744  0.03494561 -0.03098485]\n",
      "Intercept: 54.61986343675285\n"
     ]
    }
   ],
   "source": [
    "# データをトレーニング用とテスト用に分割\n",
    "X_train, X_test, Y_train, Y_test = train_test_split(X, Y, test_size=0.2, random_state=39)\n",
    "\n",
    "# 各Yに対して回帰モデル作成\n",
    "model_list = [] # 各モデルを格納するリスト\n",
    "\n",
    "for i in range(len(Y.columns)):\n",
    "    y_train = Y_train.iloc[:, i]\n",
    "    y_test = Y_test.iloc[:, i]\n",
    "\n",
    "    # 線形回帰モデルの作成と訓練\n",
    "    model = LinearRegression()\n",
    "    model.fit(X_train, y_train)\n",
    "\n",
    "    # トレーニングデータとテストデータに対する予測の作成\n",
    "    y_train_pred = model.predict(X_train)\n",
    "    y_test_pred = model.predict(X_test)\n",
    "\n",
    "     # 回帰係数と切片の表示\n",
    "    print(f\"Coefficient: {model.coef_}\")\n",
    "    print(f\"Intercept: {model.intercept_}\")"
   ]
  }
 ],
 "metadata": {
  "kernelspec": {
   "display_name": "sklearn_base",
   "language": "python",
   "name": "python3"
  },
  "language_info": {
   "codemirror_mode": {
    "name": "ipython",
    "version": 3
   },
   "file_extension": ".py",
   "mimetype": "text/x-python",
   "name": "python",
   "nbconvert_exporter": "python",
   "pygments_lexer": "ipython3",
   "version": "3.11.5"
  }
 },
 "nbformat": 4,
 "nbformat_minor": 2
}
